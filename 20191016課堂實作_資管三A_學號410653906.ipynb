{
 "cells": [
  {
   "cell_type": "markdown",
   "metadata": {},
   "source": [
    "## 實作練習一"
   ]
  },
  {
   "cell_type": "code",
   "execution_count": 8,
   "metadata": {},
   "outputs": [
    {
     "name": "stdout",
     "output_type": "stream",
     "text": [
      "請輸入成績80\n",
      "甲等\n"
     ]
    }
   ],
   "source": [
    "score = int(input(\"請輸入成績\"))\n",
    "if(score>=90):\n",
    "    print('優等')\n",
    "elif(score>=80):\n",
    "    print('甲等')\n",
    "elif(score>=70):\n",
    "    print('乙等')\n",
    "elif(score>=60):\n",
    "    print('丙等')\n",
    "else:\n",
    "    print('丁等')"
   ]
  },
  {
   "cell_type": "markdown",
   "metadata": {},
   "source": [
    "## 實作練習二"
   ]
  },
  {
   "cell_type": "code",
   "execution_count": 7,
   "metadata": {},
   "outputs": [
    {
     "name": "stdout",
     "output_type": "stream",
     "text": [
      "輸入一個數字10\n",
      "1 到  10  的整數和為  55\n"
     ]
    }
   ],
   "source": [
    "num = int(input(\"輸入一個數字\"))\n",
    "sum=0\n",
    "for n in range(num+1):\n",
    "    sum = sum+n\n",
    "print(' 1 到 ',num,' 的整數和為 ',sum)"
   ]
  },
  {
   "cell_type": "markdown",
   "metadata": {},
   "source": [
    "## 實作練習三"
   ]
  },
  {
   "cell_type": "code",
   "execution_count": 10,
   "metadata": {},
   "outputs": [
    {
     "name": "stdout",
     "output_type": "stream",
     "text": [
      "請輸入正整數12\n",
      "1 2 3 4 6 7 8 9 11 12 "
     ]
    }
   ],
   "source": [
    "num = int(input(\"請輸入正整數\"))\n",
    "for n in range(num+1):\n",
    "    if(n%5==0):\n",
    "        continue\n",
    "    print(n, end=\" \")"
   ]
  },
  {
   "cell_type": "markdown",
   "metadata": {},
   "source": [
    "## 實作練習六"
   ]
  },
  {
   "cell_type": "code",
   "execution_count": 13,
   "metadata": {},
   "outputs": [
    {
     "name": "stdout",
     "output_type": "stream",
     "text": [
      "請輸入正整數5\n",
      "5 != 120\n"
     ]
    }
   ],
   "source": [
    "n = int(input(\"請輸入正整數\"))\n",
    "sum=1\n",
    "t=1\n",
    "while(t<=n):\n",
    "    sum =sum*t\n",
    "    t+=1\n",
    "print(n,\"!=\",sum)"
   ]
  }
 ],
 "metadata": {
  "kernelspec": {
   "display_name": "Python 3",
   "language": "python",
   "name": "python3"
  },
  "language_info": {
   "codemirror_mode": {
    "name": "ipython",
    "version": 3
   },
   "file_extension": ".py",
   "mimetype": "text/x-python",
   "name": "python",
   "nbconvert_exporter": "python",
   "pygments_lexer": "ipython3",
   "version": "3.7.4"
  }
 },
 "nbformat": 4,
 "nbformat_minor": 2
}
